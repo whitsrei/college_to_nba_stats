{
 "cells": [
  {
   "cell_type": "markdown",
   "metadata": {},
   "source": [
    "# Cleaning Data"
   ]
  },
  {
   "cell_type": "markdown",
   "metadata": {},
   "source": [
    "The data sets that we have come with a lot of stats about the players. In this step we are going through and removing players that didn't come from the NCAA (Europe) and trimming down the attributes to the things that we believe are important."
   ]
  },
  {
   "cell_type": "code",
   "execution_count": 64,
   "metadata": {},
   "outputs": [],
   "source": [
    "from tabulate import tabulate\n",
    "import operator\n",
    "import random\n",
    "import math\n",
    "import numpy as np\n",
    "\n",
    "def get_table(filename):\n",
    "    table = []\n",
    "    infile = open(filename)\n",
    "    lines = infile.readlines()\n",
    "    \n",
    "    i = 0\n",
    "    for line in lines:\n",
    "        add_it = True\n",
    "        line = line.strip()\n",
    "        line = line.strip('\\n')\n",
    "        values = line.split(\",\")\n",
    "        \n",
    "        #this is only grabbing columns that are completely filled in\n",
    "        if len(values) == 57:        \n",
    "            for val in values:\n",
    "                #Get rid of columns with NA in them\n",
    "                if val == 'NA':\n",
    "                    add_it = False\n",
    "            if add_it:\n",
    "                #player - 6\n",
    "                #MP - 31\n",
    "                #FG - 32\n",
    "                #FG% - 34\n",
    "                #3p - 38\n",
    "                #3pt% - 40\n",
    "                #FT - 41\n",
    "                #PTS - 52\n",
    "                #SOS - 54\n",
    "                \n",
    "                to_add = []\n",
    "                to_add.append(values[6])\n",
    "                to_add.append(values[31])\n",
    "                to_add.append(values[32])\n",
    "                to_add.append(values[34])\n",
    "                to_add.append(values[38])\n",
    "                to_add.append(values[40])\n",
    "                to_add.append(values[41])\n",
    "                to_add.append(values[52])\n",
    "                to_add.append(values[54])\n",
    "                table.append(to_add)\n",
    "                \n",
    "    infile.close()\n",
    "    return table\n",
    "\n"
   ]
  },
  {
   "cell_type": "markdown",
   "metadata": {},
   "source": [
    "# Basic KNN_functions"
   ]
  },
  {
   "cell_type": "code",
   "execution_count": 89,
   "metadata": {},
   "outputs": [],
   "source": [
    "\n",
    "\n",
    "def get_frequencies(table, column_index):\n",
    "    '''\n",
    "    get values and counts given a table and \n",
    "    the column_index\n",
    "    '''\n",
    "    column = sorted(get_column(table, column_index))\n",
    "    values = []\n",
    "    counts = []\n",
    "    for value in column:\n",
    "        if value not in values:\n",
    "            values.append(value)\n",
    "            counts.append(1)\n",
    "        else:\n",
    "            counts[-1] += 1\n",
    "    return values, counts\n",
    "\n",
    "def get_column(table, column_index):\n",
    "    column = []\n",
    "    for row in table:\n",
    "        if row[column_index] != 'NA':\n",
    "            column.append(row[column_index])\n",
    "    return column\n",
    "\n",
    "def compute_distances(v1,v2):\n",
    "    assert(len(v1) == len(v2))\n",
    "    \n",
    "    dist = math.sqrt(sum([(int(float(v1[i])) - int(float(v2[i]))) ** 2 for i in range(1,len(v1))]))\n",
    "    return dist\n"
   ]
  },
  {
   "cell_type": "code",
   "execution_count": 90,
   "metadata": {},
   "outputs": [],
   "source": [
    "def knn_guess(train_set, test_set, k_val):\n",
    "    '''\n",
    "    classifier using knn given a test set, train set and k value\n",
    "    '''\n",
    "    \n",
    "    init_len = len(train_set)\n",
    "    \n",
    "    right = 0\n",
    "    wrong = 0\n",
    "\n",
    "    for row in train_set:\n",
    "        row.append(compute_distances(row, test_set))  \n",
    "\n",
    "    k = k_val\n",
    "    \n",
    "    length_of_rows = len(train_set[0])\n",
    "    train_set.sort(key=operator.itemgetter(length_of_rows-1))\n",
    "\n",
    "    top_k = train_set[:k]\n",
    "\n",
    "    # calculate the averages from the nearest neighbors\n",
    "    \n",
    "    avg_list = [[] for i in range(len(top_k[0]))]\n",
    "    for row in top_k:\n",
    "        for i in range(1,len(row)):\n",
    "            avg_list[i].append(float(row[i]))\n",
    "    \n",
    "    avg_list = avg_list[1:]\n",
    "    avgs = [np.mean(i) for i in avg_list]\n",
    "    \n",
    "    for row in train_set:\n",
    "        row.pop()\n",
    "    \n",
    "    return avgs"
   ]
  },
  {
   "cell_type": "code",
   "execution_count": 91,
   "metadata": {},
   "outputs": [],
   "source": [
    "def k_fold(table):\n",
    "    randomized = table[:]\n",
    "    n = len(randomized)\n",
    "\n",
    "    for i in range(n):\n",
    "        rand_index = random.randrange(0,n)\n",
    "        randomized[i], randomized[rand_index] = randomized[rand_index], randomized[i]\n",
    "\n",
    "\n",
    "    folds = [[] for i in range(10)]\n",
    "    x = 0\n",
    "    for i in range(len(randomized)):\n",
    "        if x > 9:\n",
    "            x = 0\n",
    "        folds[x].append(randomized[i])\n",
    "        x += 1\n",
    "    return folds"
   ]
  },
  {
   "cell_type": "code",
   "execution_count": 92,
   "metadata": {},
   "outputs": [],
   "source": [
    "def knn_matrix(table):    \n",
    "    folds = k_fold(table)\n",
    "    print(\"---------------------\")\n",
    "    print(\"Self-Coded: KNN\")\n",
    "    print(\"---------------------\")\n",
    "\n",
    "    for i in range(len(folds)):\n",
    "        train_set = []\n",
    "        for x in folds:\n",
    "            if x != folds[i]:\n",
    "                for item in x:\n",
    "                    train_set.append(item)\n",
    "        for j in folds[i]:\n",
    "            my_guess = knn_guess(train_set, j, 10)\n",
    "            print(\"----------------------------------------\")\n",
    "            print(\"Player -> \", j[0])\n",
    "            print(headers)\n",
    "            print(my_guess)\n",
    "            print(\"----------------------------------------\")\n",
    "            "
   ]
  },
  {
   "cell_type": "code",
   "execution_count": 93,
   "metadata": {},
   "outputs": [
    {
     "name": "stdout",
     "output_type": "stream",
     "text": [
      "---------------------\n",
      "Self-Coded: KNN\n",
      "---------------------\n",
      "----------------------------------------\n",
      "Player ->  Marvin Bagley\\baglema01\n",
      "['Player', 'MP', 'FG', 'FG%', '3P', '3P%', 'FT', 'PTS', 'SOS']\n",
      "[26.522222222222222, 4.677777777777778, 0.523, 1.1444444444444446, 0.38522222222222224, 2.566666666666667, 13.077777777777778, 8.656666666666666, 12.001636868305688]\n",
      "----------------------------------------\n",
      "----------------------------------------\n",
      "Player ->  Malik Monk\\monkma01\n",
      "['Player', 'MP', 'FG', 'FG%', '3P', '3P%', 'FT', 'PTS', 'SOS']\n",
      "[26.522222222222222, 4.677777777777777, 0.523, 1.1444444444444446, 0.38522222222222224, 2.566666666666667, 13.077777777777778, 8.656666666666666, 9.85353609421622]\n",
      "----------------------------------------\n",
      "----------------------------------------\n",
      "Player ->  Zach Collins\\colliza01\n",
      "['Player', 'MP', 'FG', 'FG%', '3P', '3P%', 'FT', 'PTS', 'SOS']\n",
      "[28.74, 5.339999999999999, 0.5119, 1.34, 0.3785, 2.82, 14.85, 9.398000000000001, 13.935032251918852]\n",
      "----------------------------------------\n",
      "----------------------------------------\n",
      "Player ->  Mikal Bridges\\bridgmi01\n",
      "['Player', 'MP', 'FG', 'FG%', '3P', '3P%', 'FT', 'PTS', 'SOS']\n",
      "[27.74, 5.3, 0.5246000000000001, 1.22, 0.3861, 2.91, 14.719999999999999, 8.837, 7.155077727841065]\n",
      "----------------------------------------\n",
      "----------------------------------------\n",
      "Player ->  Donte DiVincenzo\\divindo01\n",
      "['Player', 'MP', 'FG', 'FG%', '3P', '3P%', 'FT', 'PTS', 'SOS']\n",
      "[27.929999999999996, 5.33, 0.5302, 1.22, 0.3883, 2.94, 14.830000000000002, 8.837, 7.941878057782192]\n",
      "----------------------------------------\n",
      "----------------------------------------\n",
      "Player ->  Caleb Swanigan\\swanica01\n",
      "['Player', 'MP', 'FG', 'FG%', '3P', '3P%', 'FT', 'PTS', 'SOS']\n",
      "[27.550000000000004, 5.18, 0.5269999999999999, 1.28, 0.38849999999999996, 2.77, 14.41, 8.998999999999999, 6.646075937990861]\n",
      "----------------------------------------\n",
      "----------------------------------------\n",
      "Player ->  Moritz Wagner\\wagnemo01\n",
      "['Player', 'MP', 'FG', 'FG%', '3P', '3P%', 'FT', 'PTS', 'SOS']\n",
      "[28.369999999999997, 5.3, 0.5224, 1.27, 0.38760000000000006, 2.95, 14.809999999999999, 8.895, 9.98071316177723]\n",
      "----------------------------------------\n",
      "----------------------------------------\n",
      "Player ->  Deandre Ayton\\aytonde01\n",
      "['Player', 'MP', 'FG', 'FG%', '3P', '3P%', 'FT', 'PTS', 'SOS']\n",
      "[27.119999999999997, 4.8999999999999995, 0.5159, 1.3400000000000003, 0.39180000000000004, 2.7, 13.839999999999998, 9.126999999999999, 10.762308619602347]\n",
      "----------------------------------------\n",
      "----------------------------------------\n",
      "Player ->  Justin Jackson\\jacksju01\n",
      "['Player', 'MP', 'FG', 'FG%', '3P', '3P%', 'FT', 'PTS', 'SOS']\n",
      "[27.560000000000002, 5.16, 0.5311, 1.23, 0.3921, 2.9, 14.45, 8.671, 6.9313879575489]\n",
      "----------------------------------------\n",
      "----------------------------------------\n",
      "Player ->  Josh Hart\\hartjo01\n",
      "['Player', 'MP', 'FG', 'FG%', '3P', '3P%', 'FT', 'PTS', 'SOS']\n",
      "[27.669999999999998, 5.2299999999999995, 0.526, 1.23, 0.3872, 2.85, 14.530000000000001, 8.959999999999999, 6.391669894707884]\n",
      "----------------------------------------\n",
      "----------------------------------------\n",
      "Player ->  Grayson Allen\\allengr01\n",
      "['Player', 'MP', 'FG', 'FG%', '3P', '3P%', 'FT', 'PTS', 'SOS']\n",
      "[27.68, 5.26, 0.5341, 1.17, 0.3881, 2.75, 14.440000000000001, 8.784, 6.650156338500837]\n",
      "----------------------------------------\n"
     ]
    }
   ],
   "source": [
    "#fxn that calls KNN-self-done\n",
    "\n",
    "start_table = get_table('datasets/firstRoundPicks_withCollegeStats.csv')\n",
    "headers = start_table[0]\n",
    "table = start_table[1:]\n",
    "    \n",
    "knn_matrix(table)"
   ]
  },
  {
   "cell_type": "markdown",
   "metadata": {},
   "source": [
    "# Scikit-learn"
   ]
  },
  {
   "cell_type": "code",
   "execution_count": 7,
   "metadata": {},
   "outputs": [
    {
     "ename": "NameError",
     "evalue": "name 'X' is not defined",
     "output_type": "error",
     "traceback": [
      "\u001b[0;31m---------------------------------------------------------------------------\u001b[0m",
      "\u001b[0;31mNameError\u001b[0m                                 Traceback (most recent call last)",
      "\u001b[0;32m<ipython-input-7-8bae84524e62>\u001b[0m in \u001b[0;36m<module>\u001b[0;34m\u001b[0m\n\u001b[1;32m      3\u001b[0m \u001b[0;31m#once we have the data, then X is our training data and Y is our target values\u001b[0m\u001b[0;34m\u001b[0m\u001b[0;34m\u001b[0m\u001b[0;34m\u001b[0m\u001b[0m\n\u001b[1;32m      4\u001b[0m \u001b[0;34m\u001b[0m\u001b[0m\n\u001b[0;32m----> 5\u001b[0;31m \u001b[0mn\u001b[0m\u001b[0;34m.\u001b[0m\u001b[0mfit\u001b[0m\u001b[0;34m(\u001b[0m\u001b[0mX\u001b[0m\u001b[0;34m,\u001b[0m \u001b[0my\u001b[0m\u001b[0;34m)\u001b[0m\u001b[0;34m\u001b[0m\u001b[0;34m\u001b[0m\u001b[0m\n\u001b[0m\u001b[1;32m      6\u001b[0m \u001b[0mprint\u001b[0m\u001b[0;34m(\u001b[0m\u001b[0mn\u001b[0m\u001b[0;34m.\u001b[0m\u001b[0mpredict\u001b[0m\u001b[0;34m[\u001b[0m\u001b[0;34m[\u001b[0m\u001b[0mtest_dealio\u001b[0m\u001b[0;34m]\u001b[0m\u001b[0;34m]\u001b[0m\u001b[0;34m)\u001b[0m\u001b[0;34m\u001b[0m\u001b[0;34m\u001b[0m\u001b[0m\n",
      "\u001b[0;31mNameError\u001b[0m: name 'X' is not defined"
     ]
    }
   ],
   "source": [
    "from sklearn.neighbors import KNeighborsClassifier\n",
    "n = KNeighborsClassifier(n_neighbors = 5)\n",
    "#once we have the data, then X is our training data and Y is our target values\n",
    "\n",
    "n.fit(X, y)\n",
    "print(n.predict[[test_dealio]])"
   ]
  },
  {
   "cell_type": "code",
   "execution_count": null,
   "metadata": {},
   "outputs": [],
   "source": []
  }
 ],
 "metadata": {
  "kernelspec": {
   "display_name": "Python 3",
   "language": "python",
   "name": "python3"
  },
  "language_info": {
   "codemirror_mode": {
    "name": "ipython",
    "version": 3
   },
   "file_extension": ".py",
   "mimetype": "text/x-python",
   "name": "python",
   "nbconvert_exporter": "python",
   "pygments_lexer": "ipython3",
   "version": "3.7.1"
  }
 },
 "nbformat": 4,
 "nbformat_minor": 2
}
