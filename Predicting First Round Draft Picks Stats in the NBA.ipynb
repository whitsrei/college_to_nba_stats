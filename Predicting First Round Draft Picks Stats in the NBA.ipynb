{
 "cells": [
  {
   "cell_type": "markdown",
   "metadata": {},
   "source": [
    "# Cleaning Data"
   ]
  },
  {
   "cell_type": "markdown",
   "metadata": {},
   "source": [
    "The data sets that we have come with a lot of stats about the players. In this step we are going through and removing players that didn't come from the NCAA (Europe) and trimming down the attributes to the things that we believe are important."
   ]
  },
  {
   "cell_type": "code",
   "execution_count": 5,
   "metadata": {},
   "outputs": [],
   "source": [
    "from tabulate import tabulate\n",
    "\n",
    "def get_table(filename):\n",
    "    table = []\n",
    "    infile = open(filename)\n",
    "    lines = infile.readlines()\n",
    "    for line in lines:\n",
    "        add_it = True\n",
    "        line = line.strip()\n",
    "        line = line.strip('\\n')\n",
    "        values = line.split(\",\")\n",
    "        for val in values:\n",
    "            #looking for players that don't have \n",
    "            # sufficient stats.\n",
    "            if val == 'NA':\n",
    "                add_it = False\n",
    "        if add_it:\n",
    "            #TODO choose the values to add\n",
    "            to_add = []\n",
    "            to_add.append(values[6:])\n",
    "            table.append(to_add)\n",
    "    infile.close()\n",
    "    return table\n",
    "\n",
    "def main():\n",
    "    table = get_table('datasets/firstRoundPicks_withCollegeStats.csv')\n",
    "   \n",
    "    f = open('datasets/first_rounds_cleaned.csv', 'w')\n",
    "    \n",
    "    #just using tabulate because it makes it nice to see,\n",
    "    #change later\n",
    "    f.write(tabulate(table))\n",
    "    f.close()\n",
    "\n",
    "\n",
    "\n",
    "\n",
    "if __name__ == '__main__':\n",
    "    main()"
   ]
  },
  {
   "cell_type": "code",
   "execution_count": null,
   "metadata": {},
   "outputs": [],
   "source": []
  }
 ],
 "metadata": {
  "kernelspec": {
   "display_name": "Python 3",
   "language": "python",
   "name": "python3"
  },
  "language_info": {
   "codemirror_mode": {
    "name": "ipython",
    "version": 3
   },
   "file_extension": ".py",
   "mimetype": "text/x-python",
   "name": "python",
   "nbconvert_exporter": "python",
   "pygments_lexer": "ipython3",
   "version": "3.7.1"
  }
 },
 "nbformat": 4,
 "nbformat_minor": 2
}
